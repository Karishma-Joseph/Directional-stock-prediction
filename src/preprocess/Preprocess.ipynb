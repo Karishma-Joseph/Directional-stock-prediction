{
  "nbformat": 4,
  "nbformat_minor": 0,
  "metadata": {
    "colab": {
      "name": "Preprocess.ipynb",
      "provenance": []
    },
    "kernelspec": {
      "name": "python3",
      "display_name": "Python 3"
    }
  },
  "cells": [
    {
      "cell_type": "code",
      "metadata": {
        "colab": {
          "base_uri": "https://localhost:8080/"
        },
        "id": "61tZtkZWBnDO",
        "outputId": "b89b0702-03d6-4e57-e2f4-8117be5bc9a5"
      },
      "source": [
        "from google.colab import drive\n",
        "drive.mount('/content/drive')"
      ],
      "execution_count": 7,
      "outputs": [
        {
          "output_type": "stream",
          "text": [
            "Drive already mounted at /content/drive; to attempt to forcibly remount, call drive.mount(\"/content/drive\", force_remount=True).\n"
          ],
          "name": "stdout"
        }
      ]
    },
    {
      "cell_type": "code",
      "metadata": {
        "colab": {
          "base_uri": "https://localhost:8080/"
        },
        "id": "a9dBEs4KBwR9",
        "outputId": "d258e80f-ba96-4695-de32-362c3fd36286"
      },
      "source": [
        "from nltk.stem import SnowballStemmer\n",
        "from textblob import TextBlob\n",
        "import re\n",
        "import nltk\n",
        "nltk.download('stopwords')\n",
        "from nltk.corpus import stopwords"
      ],
      "execution_count": 8,
      "outputs": [
        {
          "output_type": "stream",
          "text": [
            "[nltk_data] Downloading package stopwords to /root/nltk_data...\n",
            "[nltk_data]   Package stopwords is already up-to-date!\n"
          ],
          "name": "stdout"
        }
      ]
    },
    {
      "cell_type": "code",
      "metadata": {
        "id": "nuvDRCKkBzlf"
      },
      "source": [
        "def preprocess_text(text):\n",
        "    # convert to lower case\n",
        "    text = text.lower()\n",
        "\n",
        "    #remove links and numbers\n",
        "    text = re.sub(r\"https?:\\/\\/(www\\.)?[-a-zA-Z0-9@:%._\\+~#=]{2,256}\\.[a-z]{2,6}\\b([-a-zA-Z0-9@:%_\\+.~#?&//=]*)\", \"\", text)\n",
        "    text = re.sub(r\"(25[0-5]|2[0-4][0-9]|[01]?[0-9][0-9]?)(\\.(25[0-5]|2[0-4][0-9]|[01]?[0-9][0-9]?)){3}\", \"\", text)\n",
        "\n",
        "    #spelling check (Takes a really long time)\n",
        "    # text = str(TextBlob(text).correct())\n",
        "    \n",
        "    #remove numbers\n",
        "    text = re.sub(\"\\d+\", \" \", text)\n",
        "\n",
        "    #abbreviations and punctuations\n",
        "    text = re.sub(r\"what's\", \"what is \", text)\n",
        "    text = re.sub(r\"\\'s\", \" \", text)\n",
        "    text = re.sub(r\"\\'ve\", \" have \", text)\n",
        "    text = re.sub(r\"can't\", \"cannot \", text)\n",
        "    text = re.sub(r\"n't\", \" not \", text)\n",
        "    text = re.sub(r\"i'm\", \"i am \", text)\n",
        "    text = re.sub(r\"\\'re\", \" are \", text)\n",
        "    text = re.sub(r\"\\'d\", \" would \", text)\n",
        "    text = re.sub(r\"\\'ll\", \" will \", text)\n",
        "    text = re.sub(r\",\", \" \", text)\n",
        "    text = re.sub(r\"\\.\", \" \", text)\n",
        "    text = re.sub(r\"!\", \" ! \", text)\n",
        "    text = re.sub(r\"\\/\", \" \", text)\n",
        "    text = re.sub(r\"\\?\", \" ? \", text)\n",
        "    text = re.sub(r\"\\!\", \" ! \", text)\n",
        "    text = re.sub(r\"\\\"\", \" \", text)\n",
        "    text = re.sub(r\"\\^\", \" ^ \", text)\n",
        "    text = re.sub(r\"\\+\", \" + \", text)\n",
        "    text = re.sub(r\"\\-\", \" - \", text)\n",
        "    text = re.sub(r\"\\=\", \" = \", text)\n",
        "    text = re.sub(r\"\\n\", \" \", text)\n",
        "    text = re.sub(r\"'\", \" \", text)\n",
        "    text = re.sub(r\":\", \" : \", text)\n",
        "    text = re.sub(r\" e g \", \" eg \", text)\n",
        "    text = re.sub(r\" b g \", \" bg \", text)\n",
        "    text = re.sub(r\"\\0s\", \"0\", text)\n",
        "    text = re.sub(r\" 9 11 \", \"911\", text)\n",
        "    text = re.sub(r\"e - mail\", \"email\", text)\n",
        "    text = re.sub(r\"j k\", \"jk\", text)\n",
        "\n",
        "    #remove special characters\n",
        "    text = re.sub(r'[^?!.,:a-z\\d ]', '',text, flags=re.IGNORECASE)\n",
        "    \n",
        "    #stop word removal\n",
        "    STOPWORDS = set(stopwords.words('english'))\n",
        "\n",
        "    #stemming\n",
        "    snow_stemmer = SnowballStemmer(language='english')\n",
        "\n",
        "    sentence = \"\"\n",
        "    for word in str(text).split():\n",
        "      #if word is not a stopword\n",
        "      if word not in STOPWORDS:\n",
        "        #stemming\n",
        "        stem_word = snow_stemmer.stem(word)\n",
        "        sentence += stem_word + \" \"\n",
        "\n",
        "\n",
        "    return sentence"
      ],
      "execution_count": 9,
      "outputs": []
    },
    {
      "cell_type": "code",
      "metadata": {
        "colab": {
          "base_uri": "https://localhost:8080/",
          "height": 137
        },
        "id": "Yy-5utrCB2kJ",
        "outputId": "7c23a791-3ed5-4cf3-e1b8-81aad3fba508"
      },
      "source": [
        "text = \"Tweet\\nJPMorgan Chase & Co. set a $228.00 target price on Apple (NASDAQ:AAPL) in a research report report published on Wednesday morning. The firm currently has a buy rating on the iPhone maker’s stock.\\nA number of other research firms also recently weighed in on AAPL. DA Davidson reduced their target price on shares of Apple to $260.00 and set a buy rating on the stock in a report on Thursday, January 3rd. UBS Group set a $185.00 target price on shares of Apple and gave the stock a buy rating in a report on Monday, January 28th. Robert W. Baird reduced their target price on shares of Apple from $230.00 to $185.00 and set an outperform rating on the stock in a report on Thursday, January 3rd. Citigroup reduced their target price on shares of Apple from $265.00 to $240.00 and set a buy rating on the stock in a report on Friday, November 2nd. Finally, ValuEngine downgraded shares of Apple from a hold rating to a sell rating in a report on Friday, January 4th. Three equities research analysts have rated the stock with a sell rating, twenty-four have issued a hold rating and twenty-two have issued a buy rating to the stock. The stock has an average rating of Hold and a consensus price target of $191.66. Get Apple alerts:\\nApple stock opened at $166.52 on Wednesday. Apple has a twelve month low of $142.00 and a twelve month high of $233.47. The company has a debt-to-equity ratio of 0.87, a quick ratio of 1.09 and a current ratio of 1.12. The stock has a market capitalization of $818.47 billion, a PE ratio of 13.98, a price-to-earnings-growth ratio of 1.68 and a beta of 1.13. Apple (NASDAQ:AAPL) last posted its earnings results on Tuesday, January 29th. The iPhone maker reported $4.18 earnings per share for the quarter, topping analysts’ consensus estimates of $4.17 by $0.01. Apple had a net margin of 22.72% and a return on equity of 51.09%. The firm had revenue of $84.31 billion for the quarter, compared to the consensus estimate of $84.07 billion. On average, equities analysts forecast that Apple will post 11.38 earnings per share for the current fiscal year.\\nThe business also recently disclosed a quarterly dividend, which will be paid on Thursday, February 14th. Shareholders of record on Monday, February 11th will be given a $0.73 dividend. The ex-dividend date is Friday, February 8th. This represents a $2.92 annualized dividend and a yield of 1.75%. Apple’s dividend payout ratio (DPR) is 24.52%.\\nIn other Apple news, insider Chris Kondo sold 3,408 shares of the business’s stock in a transaction dated Monday, November 19th. The shares were sold at an average price of $190.00, for a total value of $647,520.00. Following the completion of the sale, the insider now directly owns 8,940 shares of the company’s stock, valued at approximately $1,698,600. The transaction was disclosed in a filing with the SEC, which is available through this link . 0.05% of the stock is owned by insiders.\\nA number of institutional investors have recently added to or reduced their stakes in the business. Contravisory Investment Management Inc. lifted its position in shares of Apple by 30.6% in the 4th quarter. Contravisory Investment Management Inc. now owns 614 shares of the iPhone maker’s stock worth $97,000 after purchasing an additional 144 shares during the period. Delphi Private Advisors LLC purchased a new stake in shares of Apple in the 2nd quarter worth approximately $120,000. CKW Financial Group lifted its position in shares of Apple by 15.0% in the 4th quarter. CKW Financial Group now owns 807 shares of the iPhone maker’s stock worth $127,000 after purchasing an additional 105 shares during the period. Selective Wealth Management purchased a new stake in shares of Apple in the 3rd quarter worth approximately $194,000. Finally, Lawson Kroeker Investment Management Inc. NE purchased a new stake in shares of Apple in the 3rd quarter worth approximately $201,000. 57.02% of the stock is owned by institutional investors.\\nAbout Apple\\nApple Inc designs, manufactures, and markets mobile communication and media devices, and personal computers. It also sells various related software, services, accessories, and third-party digital content and applications. The company offers iPhone, a line of smartphones; iPad, a line of multi-purpose tablets; and Mac, a line of desktop and portable personal computers, as well as iOS, macOS, watchOS, and tvOS operating systems.\"\n",
        "processed_sentence = preprocess_text(text)\n",
        "processed_sentence"
      ],
      "execution_count": 10,
      "outputs": [
        {
          "output_type": "execute_result",
          "data": {
            "application/vnd.google.colaboratory.intrinsic+json": {
              "type": "string"
            },
            "text/plain": [
              "'tweet jpmorgan chase co set target price appl nasdaq : aapl research report report publish wednesday morn firm current buy rate iphon maker stock number research firm also recent weigh aapl da davidson reduc target price share appl set buy rate stock report thursday januari rd ub group set target price share appl gave stock buy rate report monday januari th robert w baird reduc target price share appl set outperform rate stock report thursday januari rd citigroup reduc target price share appl set buy rate stock report friday novemb nd final valuengin downgrad share appl hold rate sell rate report friday januari th three equiti research analyst rate stock sell rate twenti four issu hold rate twenti two issu buy rate stock stock averag rate hold consensus price target get appl alert : appl stock open wednesday appl twelv month low twelv month high compani debt equiti ratio quick ratio current ratio stock market capit billion pe ratio price earn growth ratio beta appl nasdaq : aapl last post earn result tuesday januari th iphon maker report earn per share quarter top analyst consensus estim appl net margin return equiti firm revenu billion quarter compar consensus estim billion averag equiti analyst forecast appl post earn per share current fiscal year busi also recent disclos quarter dividend paid thursday februari th sharehold record monday februari th given dividend ex dividend date friday februari th repres annual dividend yield appl dividend payout ratio dpr appl news insid chris kondo sold share businesss stock transact date monday novemb th share sold averag price total valu follow complet sale insid direct own share compani stock valu approxim transact disclos file sec avail link stock own insid number institut investor recent ad reduc stake busi contravisori invest manag inc lift posit share appl th quarter contravisori invest manag inc own share iphon maker stock worth purchas addit share period delphi privat advisor llc purchas new stake share appl nd quarter worth approxim ckw financi group lift posit share appl th quarter ckw financi group own share iphon maker stock worth purchas addit share period select wealth manag purchas new stake share appl rd quarter worth approxim final lawson kroeker invest manag inc ne purchas new stake share appl rd quarter worth approxim stock own institut investor appl appl inc design manufactur market mobil communic media devic person comput also sell various relat softwar servic accessori third parti digit content applic compani offer iphon line smartphon ipad line multi purpos tablet mac line desktop portabl person comput well io maco watcho tvos oper system '"
            ]
          },
          "metadata": {
            "tags": []
          },
          "execution_count": 10
        }
      ]
    }
  ]
}